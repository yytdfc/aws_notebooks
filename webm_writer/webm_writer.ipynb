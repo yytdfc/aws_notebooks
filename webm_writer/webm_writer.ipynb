{
 "cells": [
  {
   "cell_type": "code",
   "execution_count": null,
   "metadata": {},
   "outputs": [],
   "source": [
    "!pip install av\n",
    "!wget -c https://du7u4d2q1sjz6.cloudfront.net/datas/dog.zip\n",
    "!unzip dog.zip"
   ]
  },
  {
   "cell_type": "code",
   "execution_count": 1,
   "metadata": {},
   "outputs": [],
   "source": [
    "import av\n",
    "\n",
    "\n",
    "class WebmWriter:\n",
    "    def __init__(self, path, width, height, fps=25):\n",
    "        self.container = av.open(path, mode=\"w\")\n",
    "        self.stream = self.container.add_stream(\"vp9\", rate=fps)\n",
    "        self.stream.pix_fmt = \"yuva420p\"\n",
    "        self.stream.width = width\n",
    "        self.stream.height = height\n",
    "\n",
    "    def write(self, img):\n",
    "        frame = av.VideoFrame.from_ndarray(img, format=\"rgba\")\n",
    "        for packet in self.stream.encode(frame):\n",
    "            self.container.mux(packet)\n",
    "\n",
    "    def __del__(self):\n",
    "        self.close()\n",
    "\n",
    "    def close(self):\n",
    "        # Flush stream\n",
    "        for packet in self.stream.encode():\n",
    "            self.container.mux(packet)\n",
    "\n",
    "        # Close the file\n",
    "        self.container.close()\n",
    "\n",
    "\n",
    "\n"
   ]
  },
  {
   "cell_type": "code",
   "execution_count": 2,
   "metadata": {},
   "outputs": [
    {
     "name": "stderr",
     "output_type": "stream",
     "text": [
      "60it [00:10,  5.47it/s]\n"
     ]
    },
    {
     "data": {
      "text/html": [
       "<video src=\"./test.webm\" controls  >\n",
       "      Your browser does not support the <code>video</code> element.\n",
       "    </video>"
      ],
      "text/plain": [
       "<IPython.core.display.Video object>"
      ]
     },
     "metadata": {},
     "output_type": "display_data"
    }
   ],
   "source": [
    "import glob\n",
    "import numpy as np\n",
    "from PIL import Image\n",
    "from tqdm import tqdm\n",
    "from IPython.display import Video\n",
    "\n",
    "frames = sorted(glob.glob(\"./dog/*.jpg\"))\n",
    "frames_alpha = sorted(glob.glob(\"./dog/*.png\"))\n",
    "\n",
    "writer = WebmWriter(\"./test.webm\", 854, 480)\n",
    "\n",
    "for image, alpha in tqdm(zip(frames, frames_alpha)):\n",
    "    image = np.array(Image.open(image).convert(\"RGB\"))\n",
    "    alpha = np.array(Image.open(alpha)) * 255\n",
    "    out = np.concatenate([image, alpha[:, :, np.newaxis]], 2)\n",
    "    writer.write(out)\n",
    "\n",
    "writer.close()\n",
    "\n",
    "display(Video(\"./test.webm\"))\n"
   ]
  }
 ],
 "metadata": {
  "kernelspec": {
   "display_name": "Python 3 (ipykernel)",
   "language": "python",
   "name": "python3"
  },
  "language_info": {
   "codemirror_mode": {
    "name": "ipython",
    "version": 3
   },
   "file_extension": ".py",
   "mimetype": "text/x-python",
   "name": "python",
   "nbconvert_exporter": "python",
   "pygments_lexer": "ipython3",
   "version": "3.11.8"
  }
 },
 "nbformat": 4,
 "nbformat_minor": 4
}
